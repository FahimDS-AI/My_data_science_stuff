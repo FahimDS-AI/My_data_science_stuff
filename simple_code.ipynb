{
 "cells": [
  {
   "cell_type": "markdown",
   "metadata": {},
   "source": [
    "# Hi, This is Fahim Sabir"
   ]
  },
  {
   "cell_type": "markdown",
   "metadata": {},
   "source": [
    "# And it's my first time using github"
   ]
  },
  {
   "cell_type": "markdown",
   "metadata": {},
   "source": []
  }
 ],
 "metadata": {
  "language_info": {
   "name": "python"
  }
 },
 "nbformat": 4,
 "nbformat_minor": 2
}
